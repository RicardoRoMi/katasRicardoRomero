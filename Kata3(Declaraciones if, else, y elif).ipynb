{
 "cells": [
  {
   "cell_type": "markdown",
   "metadata": {},
   "source": [
    "# Ejercicio - Escribir declaraciones if, else, y elif"
   ]
  },
  {
   "cell_type": "code",
   "execution_count": 9,
   "metadata": {},
   "outputs": [
    {
     "name": "stdout",
     "output_type": "stream",
     "text": [
      "¡ADVERTENCIA! un asteroide se aproxima a la tierra\n"
     ]
    }
   ],
   "source": [
    "#escribirás una lógica condicional que imprima una advertencia si un asteroide se acerca a la Tierra demasiado rápido.\n",
    "#cualquier velocidad superior a 25 kilómetros por segundo (km/s) merece una advertencia.\n",
    "\n",
    "#Un asteroide se acerca, y viaja a una velocidad de 49 km/s.\n",
    "\n",
    "velocidad = 25\n",
    "asteroide = 49\n",
    "if velocidad < asteroide:\n",
    "    print(\"¡ADVERTENCIA! un asteroide se aproxima a la tierra\")\n",
    "else:\n",
    "    print(\"El asteroide esta lejos ni te preocupes\")"
   ]
  },
  {
   "cell_type": "code",
   "execution_count": 33,
   "metadata": {},
   "outputs": [
    {
     "name": "stdout",
     "output_type": "stream",
     "text": [
      "El asteroide esta lejos ni lo busques\n"
     ]
    }
   ],
   "source": [
    "#Si un asteroide entra en la atmósfera de la Tierra a una velocidad mayor o igual a 20 km/s, a veces produce un rayo de luz que se puede ver desde la Tierra.\n",
    "#Escribe la lógica condicional que usa declaraciones if, else, y elif para alertar a las personas de todo el mundo que deben buscar un asteroide en el cielo.\n",
    "#¡Hay uno que se dirige a la tierra ahora a una velocidad de 19 km/s!\n",
    "\n",
    "velocidad = 20\n",
    "asteroide = 19\n",
    "if asteroide > velocidad:\n",
    "    print(\"¡alerta! Busca un asteroide en el cielo\")\n",
    "elif asteroide < velocidad:\n",
    "    print(\"El asteroide esta lejos ni lo busques\")\n",
    "else:\n",
    "    print(\"Voltea al cielo y busca un rayo de luz\")\n"
   ]
  },
  {
   "cell_type": "markdown",
   "metadata": {},
   "source": [
    "# Ejercicio: Uso de operadores and y or"
   ]
  },
  {
   "cell_type": "code",
   "execution_count": 58,
   "metadata": {},
   "outputs": [
    {
     "name": "stdout",
     "output_type": "stream",
     "text": [
      "¡ADVERTENCIA! un asteroide se aproxima y golpeara a la tierra\n"
     ]
    }
   ],
   "source": [
    "velocidad = 25\n",
    "datos_asteroide = 26\n",
    "tamaño = 25\n",
    "if datos_asteroide > velocidad and datos_asteroide > tamaño :\n",
    "    print(\"¡ADVERTENCIA! un asteroide se aproxima y golpeara a la tierra\")\n",
    "elif datos_asteroide >= 20:\n",
    "    print(\"Voltea al cielo y busca un rayo de luz\") \n",
    "else:\n",
    "    print(\"¡Ni te preocupes! El asteroide esta lejos, se quemara al entrar a la atmosfera\")\n"
   ]
  }
 ],
 "metadata": {
  "interpreter": {
   "hash": "801403e2b643ccd2fc53e74afa12168c3bc5b1c6807ddcbf7a865473438daa6b"
  },
  "kernelspec": {
   "display_name": "Python 3.10.2 64-bit",
   "language": "python",
   "name": "python3"
  },
  "language_info": {
   "codemirror_mode": {
    "name": "ipython",
    "version": 3
   },
   "file_extension": ".py",
   "mimetype": "text/x-python",
   "name": "python",
   "nbconvert_exporter": "python",
   "pygments_lexer": "ipython3",
   "version": "3.10.2"
  },
  "orig_nbformat": 4
 },
 "nbformat": 4,
 "nbformat_minor": 2
}
