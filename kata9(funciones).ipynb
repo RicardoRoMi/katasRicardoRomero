{
 "cells": [
  {
   "cell_type": "markdown",
   "metadata": {},
   "source": [
    "# Ejercicio: Uso de funciones en Python"
   ]
  },
  {
   "cell_type": "markdown",
   "metadata": {},
   "source": [
    "Ejercicio 1: Trabajar con argumentos en funciones"
   ]
  },
  {
   "cell_type": "code",
   "execution_count": 39,
   "metadata": {},
   "outputs": [],
   "source": [
    "#Comienza por crear una función que necesite tres lecturas de combustible y devuelva un informe:\n",
    "# Función para leer 3 tanques de combustible y muestre el promedio\n",
    "def lecturas_combustible (tanque1, tanque2, tanque3):\n",
    "    promedio = (tanque1+tanque2+tanque3)/3\n",
    "    return f'promedio total: {promedio} \\nTanque1: {tanque1} \\nTanque2: {tanque2} \\nTanque3: {tanque3}'"
   ]
  },
  {
   "cell_type": "code",
   "execution_count": 40,
   "metadata": {},
   "outputs": [
    {
     "name": "stdout",
     "output_type": "stream",
     "text": [
      "promedio total: 82.0 \n",
      "Tanque1: 80 \n",
      "Tanque2: 85 \n",
      "Tanque3: 81\n"
     ]
    }
   ],
   "source": [
    "#Ahora que hemos definido la función de informes, vamos a comprobarlo. Para esta misión, los tanques no están llenos:\n",
    "# Llamamos a la función que genera el reporte print(funcion(tanque1, tanque2, tanque3))\n",
    "print(lecturas_combustible(10, 20, 30))"
   ]
  },
  {
   "cell_type": "code",
   "execution_count": 32,
   "metadata": {},
   "outputs": [
    {
     "data": {
      "text/plain": [
       "82.0"
      ]
     },
     "execution_count": 32,
     "metadata": {},
     "output_type": "execute_result"
    }
   ],
   "source": [
    "#Mejora la legibilidad extrayendo el cálculo promedio de la función en una nueva función para que el promedio se pueda hacer de forma independiente:\n",
    "# Función promedio \n",
    "def new_promedio(values):\n",
    "    Suma = sum(values)\n",
    "    num_tanques=len(values)\n",
    "    return Suma/num_tanques\n",
    "new_promedio([10,20,30])\n"
   ]
  },
  {
   "cell_type": "code",
   "execution_count": 45,
   "metadata": {},
   "outputs": [
    {
     "name": "stdout",
     "output_type": "stream",
     "text": [
      "promedio total 78.0 \n",
      "Tanque1: 88 \n",
      "Tanque2: 76 \n",
      "Tanque3: 70\n"
     ]
    }
   ],
   "source": [
    "# Actualiza la función\n",
    "def lecturas_combustible (tanque1, tanque2, tanque3):\n",
    "    return f'promedio total {new_promedio([tanque1, tanque2, tanque3])} \\nTanque1: {tanque1} \\nTanque2: {tanque2} \\nTanque3: {tanque3}'\n",
    "print(lecturas_combustible(10, 20, 30)) "
   ]
  },
  {
   "cell_type": "markdown",
   "metadata": {},
   "source": [
    "# Ejercicio 2: Trabajo con argumentos de palabra clave"
   ]
  },
  {
   "cell_type": "markdown",
   "metadata": {},
   "source": [
    "Ejercicio : Trabajar con argumentos de palabras clave en funciones"
   ]
  },
  {
   "cell_type": "code",
   "execution_count": 47,
   "metadata": {},
   "outputs": [
    {
     "name": "stdout",
     "output_type": "stream",
     "text": [
      "El prelanzamiento es a las: 14 \n",
      "Tiempo de vuelo: 51 \n",
      "El destino: Moon \n",
      "combustible en tanque: 500000\n"
     ]
    }
   ],
   "source": [
    "# Función con un informe preciso de la misión. Considera hora de prelanzamiento, tiempo de vuelo, destino, tanque externo y tanque interno\n",
    "def misión(prelanzamiento,tiempo_vuelo,destino,tanque_externo,tanque_interno):\n",
    "    return f'El prelanzamiento es a las: {prelanzamiento} \\nTiempo de vuelo: {tiempo_vuelo} \\nEl destino: {destino} \\ncombustible en tanque: {tanque_externo+tanque_interno}'\n",
    "print(misión(14, 51, \"Moon\", 200000, 300000))\n",
    "    "
   ]
  },
  {
   "cell_type": "code",
   "execution_count": 50,
   "metadata": {},
   "outputs": [
    {
     "name": "stdout",
     "output_type": "stream",
     "text": [
      "Destino: Moon \n",
      "Tiempo de vuelo: 76 \n",
      "combustible en tanque: 500000\n"
     ]
    }
   ],
   "source": [
    "# Escribe tu nueva función de reporte considerando lo anterior\n",
    "def misión(destino,*minutes,**fuel_reservoirs):\n",
    "    return f'Destino: {destino} \\nTiempo de vuelo: {sum(minutes)} \\ncombustible en tanque: {sum(fuel_reservoirs.values())}'\n",
    "print(misión(\"Moon\", 10, 15, 51, main=300000, external=200000))"
   ]
  },
  {
   "cell_type": "code",
   "execution_count": 58,
   "metadata": {},
   "outputs": [
    {
     "name": "stdout",
     "output_type": "stream",
     "text": [
      "Destino: Moon \n",
      "Tiempo de vuelo: 74 \n",
      "combustible en tanque: 500000\n",
      "main tank --> 300000\n",
      "external tank --> 200000\n",
      "\n"
     ]
    }
   ],
   "source": [
    "#Debido a que el combustible que queda en los tanques es específico de cada tanque, actualiza la función para usar el nombre de cada tanque en el informe:\n",
    "# Escribe tu nueva función\n",
    "\n",
    "def misión(destino, *minutes, **fuel_reservoirs):\n",
    "    reporte= f'Destino: {destino} \\nTiempo de vuelo: {sum(minutes)} \\ncombustible en tanque: {sum(fuel_reservoirs.values())}\\n'\n",
    "\n",
    "    for tanque, galones in fuel_reservoirs.items():\n",
    "        reporte += f\"{tanque} tank --> {galones}\\n\"\n",
    "    return reporte\n",
    "\n",
    "print(misión(\"Moon\", 8, 11, 55, main=300000, external=200000))\n",
    "\n",
    "\n"
   ]
  }
 ],
 "metadata": {
  "interpreter": {
   "hash": "801403e2b643ccd2fc53e74afa12168c3bc5b1c6807ddcbf7a865473438daa6b"
  },
  "kernelspec": {
   "display_name": "Python 3.10.2 64-bit",
   "language": "python",
   "name": "python3"
  },
  "language_info": {
   "codemirror_mode": {
    "name": "ipython",
    "version": 3
   },
   "file_extension": ".py",
   "mimetype": "text/x-python",
   "name": "python",
   "nbconvert_exporter": "python",
   "pygments_lexer": "ipython3",
   "version": "3.10.2"
  },
  "orig_nbformat": 4
 },
 "nbformat": 4,
 "nbformat_minor": 2
}
