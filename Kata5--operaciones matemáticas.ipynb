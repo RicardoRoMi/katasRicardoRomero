{
 "cells": [
  {
   "cell_type": "markdown",
   "metadata": {},
   "source": [
    "# Ejercicio1 - Utilizar operadores aritméticos"
   ]
  },
  {
   "cell_type": "code",
   "execution_count": null,
   "metadata": {},
   "outputs": [],
   "source": [
    "# Crear variables para almacenar las dos distancias\n",
    "Tierra = 149597870\n",
    "Júpiter = 778547200"
   ]
  },
  {
   "cell_type": "code",
   "execution_count": null,
   "metadata": {},
   "outputs": [],
   "source": [
    "#Realizar la operación\n",
    "# Calcular la distancia entre planetas\n",
    "Distancia=Tierra - Júpiter\n",
    "new_distancia=Distancia*0.621\n",
    "print(abs(Distancia))\n",
    "print(abs(new_distancia))\n"
   ]
  },
  {
   "cell_type": "markdown",
   "metadata": {},
   "source": [
    "# Ejercicio 2: convierte cadenas en números y usa valores absolutos"
   ]
  },
  {
   "cell_type": "code",
   "execution_count": 2,
   "metadata": {},
   "outputs": [],
   "source": [
    "#Usando input, agrega el código para leer la distancia del sol para cada planeta, considerando 2 planetas.\n",
    "# Almacenar las entradas del usuario\n",
    "#Pista: variable = input(\"¿Cuál es tu nombre?\")\n",
    "Dato1 = input(\"¿Cuál es la distancia de la Tierra al sol?\")\n",
    "Dato2 = input(\"¿Cuál es la distancia de Jupite al sol?\")"
   ]
  },
  {
   "cell_type": "code",
   "execution_count": 5,
   "metadata": {},
   "outputs": [],
   "source": [
    "# Convertir a número\n",
    "# Convierte las cadenas de ambos planetas a números enteros\n",
    "Conv1 = int(Dato1)\n",
    "Conv2 = int(Dato2)"
   ]
  },
  {
   "cell_type": "code",
   "execution_count": 6,
   "metadata": {},
   "outputs": [
    {
     "name": "stdout",
     "output_type": "stream",
     "text": [
      "33\n",
      "20.493\n"
     ]
    }
   ],
   "source": [
    "# resta el primer planeta del segundo\n",
    "# Realizar el cálculo y determinar el valor absoluto\n",
    "Dis=Conv2-Conv1\n",
    "print(abs(Dis))\n",
    "# Convertir de KM a Millas\n",
    "Dis_Millas=Dis*0.621\n",
    "print(abs(Dis_Millas))"
   ]
  }
 ],
 "metadata": {
  "interpreter": {
   "hash": "801403e2b643ccd2fc53e74afa12168c3bc5b1c6807ddcbf7a865473438daa6b"
  },
  "kernelspec": {
   "display_name": "Python 3.10.2 64-bit",
   "language": "python",
   "name": "python3"
  },
  "language_info": {
   "codemirror_mode": {
    "name": "ipython",
    "version": 3
   },
   "file_extension": ".py",
   "mimetype": "text/x-python",
   "name": "python",
   "nbconvert_exporter": "python",
   "pygments_lexer": "ipython3",
   "version": "3.10.2"
  },
  "orig_nbformat": 4
 },
 "nbformat": 4,
 "nbformat_minor": 2
}
