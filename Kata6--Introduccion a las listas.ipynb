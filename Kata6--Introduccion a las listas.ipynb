{
 "cells": [
  {
   "cell_type": "markdown",
   "metadata": {},
   "source": [
    "# Ejercicio1: Crear y usar listas de Python"
   ]
  },
  {
   "cell_type": "code",
   "execution_count": null,
   "metadata": {},
   "outputs": [],
   "source": [
    "# Creamos la lista planets y la mostramos\n",
    "planets = ['Mercurio','Venus','Tierra','Marte','Jupiter','Saturno','Urano','Neptuno']\n",
    "print(planets)\n",
    "num_planetas=len(planets)\n",
    "print('Hay', num_planetas, 'planetas en el sistema solar')"
   ]
  },
  {
   "cell_type": "code",
   "execution_count": null,
   "metadata": {},
   "outputs": [],
   "source": [
    "# Agregamos a plutón y mostramos el último elemento\n",
    "planets.append('plutón')\n",
    "print(planets[-1],'es el último planeta del sistema solar')"
   ]
  },
  {
   "cell_type": "markdown",
   "metadata": {},
   "source": [
    "# Ejercicio 2: Trabajando con datos de una lista"
   ]
  },
  {
   "cell_type": "code",
   "execution_count": null,
   "metadata": {},
   "outputs": [],
   "source": [
    "# Lista de planetas\n",
    "planets = ['Mercury', 'Venus', 'Earth', 'Mars', 'Jupiter', 'Saturn', 'Neptune']"
   ]
  },
  {
   "cell_type": "code",
   "execution_count": null,
   "metadata": {},
   "outputs": [],
   "source": [
    "#Solicita al usuario el nombre de un planeta\n",
    "# Solicitamos el nombre de un planeta *Pista:  input()*\n",
    "New_planet = input('Por favor ingresa el nombre de un planeta (la primer letra debe ser mayuscula)')\n",
    "print(New_planet)"
   ]
  },
  {
   "cell_type": "code",
   "execution_count": null,
   "metadata": {},
   "outputs": [],
   "source": [
    "# Encuentra el planeta en la lista\n",
    "# Busca el planeta en la lista\n",
    "New_planet_index = planets.index(New_planet)"
   ]
  },
  {
   "cell_type": "code",
   "execution_count": 35,
   "metadata": {},
   "outputs": [
    {
     "name": "stdout",
     "output_type": "stream",
     "text": [
      "['Mercury', 'Venus', 'Earth']\n",
      "Son los planetas más cercanos al sol antes de Mars\n"
     ]
    }
   ],
   "source": [
    "# Mostrar planetas más cercanos al sol que el que el usuario ingresó\n",
    "# Muestra los planetas más cercanos al sol\n",
    "planets_cercanos = planets[0:New_planet_index]\n",
    "print(planets_cercanos)\n",
    "print('Son los planetas más cercanos al sol antes de ' + New_planet)"
   ]
  },
  {
   "cell_type": "code",
   "execution_count": 33,
   "metadata": {},
   "outputs": [
    {
     "name": "stdout",
     "output_type": "stream",
     "text": [
      "['Jupiter', 'Saturn', 'Neptune']\n",
      "Son los planetas más lejanos al sol después de Mars\n"
     ]
    }
   ],
   "source": [
    "#Mostrar planetas más alejados del sol que el que el usuario ingresó\n",
    "# Muestra los planetas más lejanos al sol\n",
    "planets_maslejos = planets[New_planet_index+1:7]\n",
    "print(planets_maslejos)\n",
    "print('Son los planetas más lejanos al sol después de ' + New_planet)"
   ]
  }
 ],
 "metadata": {
  "interpreter": {
   "hash": "801403e2b643ccd2fc53e74afa12168c3bc5b1c6807ddcbf7a865473438daa6b"
  },
  "kernelspec": {
   "display_name": "Python 3.10.2 64-bit",
   "language": "python",
   "name": "python3"
  },
  "language_info": {
   "codemirror_mode": {
    "name": "ipython",
    "version": 3
   },
   "file_extension": ".py",
   "mimetype": "text/x-python",
   "name": "python",
   "nbconvert_exporter": "python",
   "pygments_lexer": "ipython3",
   "version": "3.10.2"
  },
  "orig_nbformat": 4
 },
 "nbformat": 4,
 "nbformat_minor": 2
}
